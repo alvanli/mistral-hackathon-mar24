{
 "cells": [
  {
   "cell_type": "code",
   "execution_count": 25,
   "id": "6a48b154",
   "metadata": {},
   "outputs": [],
   "source": [
    "import pandas as pd\n",
    "\n",
    "file_path = 'data.csv'\n",
    "df = pd.read_csv(file_path)"
   ]
  },
  {
   "cell_type": "code",
   "execution_count": null,
   "id": "b1d1c7b1",
   "metadata": {},
   "outputs": [],
   "source": []
  },
  {
   "cell_type": "code",
   "execution_count": 26,
   "id": "017d10f3",
   "metadata": {},
   "outputs": [
    {
     "name": "stderr",
     "output_type": "stream",
     "text": [
      "289it [00:00, 7602.67it/s]\n"
     ]
    }
   ],
   "source": [
    "from itertools import combinations\n",
    "from tqdm import tqdm\n",
    "from ast import literal_eval\n",
    "out_data = {'question': [], 'answer': [], 'golden': [], 'distractor1': [], 'distractor2': [], 'distractor3': []}\n",
    "df['distractor'] = df['distractor'].apply(literal_eval)\n",
    "for index, row in tqdm(df.iterrows()):\n",
    "    q, a, g = row['question'], row['answer'], row['golden']\n",
    "    dis = row['distractor']\n",
    "    comb = combinations(range(len(dis)), 3)\n",
    "    for c in comb:\n",
    "        out_data['question'].append(q.replace(a, \"\").replace(\", ,\", \",\").replace(' , ', \" \"))\n",
    "        out_data['answer'].append(a)\n",
    "        out_data['golden'].append(g)\n",
    "        out_data['distractor1'].append(dis[c[0]].replace(\"\\r\\n\\r\\n\", \"\").replace(\"\\n\\n\", \"\"))\n",
    "        out_data['distractor2'].append(dis[c[1]].replace(\"\\r\\n\\r\\n\", \"\").replace(\"\\n\\n\", \"\"))\n",
    "        out_data['distractor3'].append(dis[c[2]].replace(\"\\r\\n\\r\\n\", \"\").replace(\"\\n\\n\", \"\"))\n",
    "        out_data['question'].append(q.replace(a, \"\").replace(\", ,\", \",\").replace(' , ', \" \"))\n",
    "        out_data['answer'].append(a)\n",
    "        out_data['golden'].append(None)\n",
    "        out_data['distractor1'].append(dis[c[0]].replace(\"\\r\\n\\r\\n\", \"\").replace(\"\\n\\n\", \"\"))\n",
    "        out_data['distractor2'].append(dis[c[1]].replace(\"\\r\\n\\r\\n\", \"\").replace(\"\\n\\n\", \"\"))\n",
    "        out_data['distractor3'].append(dis[c[2]].replace(\"\\r\\n\\r\\n\", \"\").replace(\"\\n\\n\", \"\"))\n",
    "out_df = pd.DataFrame(out_data)\n",
    "out_df.to_csv('data_new.csv', index=False)"
   ]
  },
  {
   "cell_type": "code",
   "execution_count": null,
   "id": "b11e840d",
   "metadata": {},
   "outputs": [],
   "source": []
  },
  {
   "cell_type": "code",
   "execution_count": null,
   "id": "0a2b7e80",
   "metadata": {},
   "outputs": [],
   "source": []
  }
 ],
 "metadata": {
  "kernelspec": {
   "display_name": "cerebral-valley",
   "language": "python",
   "name": "cerebral-valley"
  },
  "language_info": {
   "codemirror_mode": {
    "name": "ipython",
    "version": 3
   },
   "file_extension": ".py",
   "mimetype": "text/x-python",
   "name": "python",
   "nbconvert_exporter": "python",
   "pygments_lexer": "ipython3",
   "version": "3.11.6"
  }
 },
 "nbformat": 4,
 "nbformat_minor": 5
}
